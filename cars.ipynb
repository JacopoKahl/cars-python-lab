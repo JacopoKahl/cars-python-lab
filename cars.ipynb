{
  "nbformat": 4,
  "nbformat_minor": 0,
  "metadata": {
    "colab": {
      "name": "cars.ipynb",
      "provenance": [],
      "collapsed_sections": [],
      "authorship_tag": "ABX9TyN9AYRvKliIvYo/JLyk94UF",
      "include_colab_link": true
    },
    "kernelspec": {
      "name": "python3",
      "display_name": "Python 3"
    },
    "accelerator": "TPU"
  },
  "cells": [
    {
      "cell_type": "markdown",
      "metadata": {
        "id": "view-in-github",
        "colab_type": "text"
      },
      "source": [
        "<a href=\"https://colab.research.google.com/github/JacopoKahl/cars-python-lab/blob/master/cars.ipynb\" target=\"_parent\"><img src=\"https://colab.research.google.com/assets/colab-badge.svg\" alt=\"Open In Colab\"/></a>"
      ]
    },
    {
      "cell_type": "markdown",
      "metadata": {
        "id": "FNGx3AnERmrC",
        "colab_type": "text"
      },
      "source": [
        "#Cars - Regression task\n",
        "\n",
        "Objectives: predict mpg(miles per gallon) given veichle features\n",
        "\n",
        "Import libraries and functions"
      ]
    },
    {
      "cell_type": "code",
      "metadata": {
        "id": "nFVkpBa4Rj-L",
        "colab_type": "code",
        "colab": {}
      },
      "source": [
        "from keras.models import Sequential\n",
        "from keras.layers import Dense\n",
        "\n",
        "import pandas as pd #Manage dataset"
      ],
      "execution_count": 0,
      "outputs": []
    },
    {
      "cell_type": "markdown",
      "metadata": {
        "id": "zpQ3WbEQTL2a",
        "colab_type": "text"
      },
      "source": [
        "Labels"
      ]
    },
    {
      "cell_type": "code",
      "metadata": {
        "id": "6p7sL4h_UJbn",
        "colab_type": "code",
        "colab": {}
      },
      "source": [
        "column_names=['MPG', 'Cylinders', 'Displacement', 'HP', 'Weight', 'Acceleration', 'Model Year', 'Origin']"
      ],
      "execution_count": 0,
      "outputs": []
    },
    {
      "cell_type": "markdown",
      "metadata": {
        "id": "dh34Cw6RUyBd",
        "colab_type": "text"
      },
      "source": [
        "Load Dataset"
      ]
    },
    {
      "cell_type": "code",
      "metadata": {
        "id": "u2YnyjR7U09Y",
        "colab_type": "code",
        "colab": {}
      },
      "source": [
        "dataset = pd.read_csv('auto-mpg.data', names=column_names, na_values = '?', sep=' ', skipinitialspace=True, comment='\\t')"
      ],
      "execution_count": 0,
      "outputs": []
    },
    {
      "cell_type": "code",
      "metadata": {
        "id": "cN4d4IcHVhJ_",
        "colab_type": "code",
        "outputId": "a898088d-b9b6-407b-c911-075220cd1055",
        "colab": {
          "base_uri": "https://localhost:8080/",
          "height": 204
        }
      },
      "source": [
        "dataset.head()"
      ],
      "execution_count": 41,
      "outputs": [
        {
          "output_type": "execute_result",
          "data": {
            "text/html": [
              "<div>\n",
              "<style scoped>\n",
              "    .dataframe tbody tr th:only-of-type {\n",
              "        vertical-align: middle;\n",
              "    }\n",
              "\n",
              "    .dataframe tbody tr th {\n",
              "        vertical-align: top;\n",
              "    }\n",
              "\n",
              "    .dataframe thead th {\n",
              "        text-align: right;\n",
              "    }\n",
              "</style>\n",
              "<table border=\"1\" class=\"dataframe\">\n",
              "  <thead>\n",
              "    <tr style=\"text-align: right;\">\n",
              "      <th></th>\n",
              "      <th>MPG</th>\n",
              "      <th>Cylinders</th>\n",
              "      <th>Displacement</th>\n",
              "      <th>HP</th>\n",
              "      <th>Weight</th>\n",
              "      <th>Acceleration</th>\n",
              "      <th>Model Year</th>\n",
              "      <th>Origin</th>\n",
              "    </tr>\n",
              "  </thead>\n",
              "  <tbody>\n",
              "    <tr>\n",
              "      <th>0</th>\n",
              "      <td>18.0</td>\n",
              "      <td>8</td>\n",
              "      <td>307.0</td>\n",
              "      <td>130.0</td>\n",
              "      <td>3504.0</td>\n",
              "      <td>12.0</td>\n",
              "      <td>70</td>\n",
              "      <td>1</td>\n",
              "    </tr>\n",
              "    <tr>\n",
              "      <th>1</th>\n",
              "      <td>15.0</td>\n",
              "      <td>8</td>\n",
              "      <td>350.0</td>\n",
              "      <td>165.0</td>\n",
              "      <td>3693.0</td>\n",
              "      <td>11.5</td>\n",
              "      <td>70</td>\n",
              "      <td>1</td>\n",
              "    </tr>\n",
              "    <tr>\n",
              "      <th>2</th>\n",
              "      <td>18.0</td>\n",
              "      <td>8</td>\n",
              "      <td>318.0</td>\n",
              "      <td>150.0</td>\n",
              "      <td>3436.0</td>\n",
              "      <td>11.0</td>\n",
              "      <td>70</td>\n",
              "      <td>1</td>\n",
              "    </tr>\n",
              "    <tr>\n",
              "      <th>3</th>\n",
              "      <td>16.0</td>\n",
              "      <td>8</td>\n",
              "      <td>304.0</td>\n",
              "      <td>150.0</td>\n",
              "      <td>3433.0</td>\n",
              "      <td>12.0</td>\n",
              "      <td>70</td>\n",
              "      <td>1</td>\n",
              "    </tr>\n",
              "    <tr>\n",
              "      <th>4</th>\n",
              "      <td>17.0</td>\n",
              "      <td>8</td>\n",
              "      <td>302.0</td>\n",
              "      <td>140.0</td>\n",
              "      <td>3449.0</td>\n",
              "      <td>10.5</td>\n",
              "      <td>70</td>\n",
              "      <td>1</td>\n",
              "    </tr>\n",
              "  </tbody>\n",
              "</table>\n",
              "</div>"
            ],
            "text/plain": [
              "    MPG  Cylinders  Displacement  ...  Acceleration  Model Year  Origin\n",
              "0  18.0          8         307.0  ...          12.0          70       1\n",
              "1  15.0          8         350.0  ...          11.5          70       1\n",
              "2  18.0          8         318.0  ...          11.0          70       1\n",
              "3  16.0          8         304.0  ...          12.0          70       1\n",
              "4  17.0          8         302.0  ...          10.5          70       1\n",
              "\n",
              "[5 rows x 8 columns]"
            ]
          },
          "metadata": {
            "tags": []
          },
          "execution_count": 41
        }
      ]
    },
    {
      "cell_type": "markdown",
      "metadata": {
        "id": "zFuLOYBCXMIF",
        "colab_type": "text"
      },
      "source": [
        "Data cleaning"
      ]
    },
    {
      "cell_type": "code",
      "metadata": {
        "id": "DbJ8WAfKXOEt",
        "colab_type": "code",
        "outputId": "185f9680-3491-40f2-a339-1b274f2d379b",
        "colab": {
          "base_uri": "https://localhost:8080/",
          "height": 170
        }
      },
      "source": [
        "dataset.isna().sum()"
      ],
      "execution_count": 42,
      "outputs": [
        {
          "output_type": "execute_result",
          "data": {
            "text/plain": [
              "MPG             0\n",
              "Cylinders       0\n",
              "Displacement    0\n",
              "HP              6\n",
              "Weight          0\n",
              "Acceleration    0\n",
              "Model Year      0\n",
              "Origin          0\n",
              "dtype: int64"
            ]
          },
          "metadata": {
            "tags": []
          },
          "execution_count": 42
        }
      ]
    },
    {
      "cell_type": "markdown",
      "metadata": {
        "id": "73bblVXDXo3O",
        "colab_type": "text"
      },
      "source": [
        "Brutal data cleaning approach: drop the rows with NaNs"
      ]
    },
    {
      "cell_type": "code",
      "metadata": {
        "id": "YYtWUNr4Xvuw",
        "colab_type": "code",
        "colab": {}
      },
      "source": [
        "dataset = dataset.dropna() #overwrite the previous dataset with a cleaned one (removing rows with NaNs)"
      ],
      "execution_count": 0,
      "outputs": []
    },
    {
      "cell_type": "code",
      "metadata": {
        "id": "lt4M3OrSYF_M",
        "colab_type": "code",
        "outputId": "7dc5b83f-fe71-452a-c409-2b6f22bec95f",
        "colab": {
          "base_uri": "https://localhost:8080/",
          "height": 170
        }
      },
      "source": [
        "dataset.isna().sum()"
      ],
      "execution_count": 44,
      "outputs": [
        {
          "output_type": "execute_result",
          "data": {
            "text/plain": [
              "MPG             0\n",
              "Cylinders       0\n",
              "Displacement    0\n",
              "HP              0\n",
              "Weight          0\n",
              "Acceleration    0\n",
              "Model Year      0\n",
              "Origin          0\n",
              "dtype: int64"
            ]
          },
          "metadata": {
            "tags": []
          },
          "execution_count": 44
        }
      ]
    },
    {
      "cell_type": "markdown",
      "metadata": {
        "id": "PptpvfNIbRJ_",
        "colab_type": "text"
      },
      "source": [
        "One-hot encoding of Origin (categorical data) column"
      ]
    },
    {
      "cell_type": "code",
      "metadata": {
        "id": "1WKxwS6kb-e6",
        "colab_type": "code",
        "colab": {}
      },
      "source": [
        "origin = dataset.pop('Origin')"
      ],
      "execution_count": 0,
      "outputs": []
    },
    {
      "cell_type": "code",
      "metadata": {
        "id": "eGV5-4rDlP6h",
        "colab_type": "code",
        "colab": {}
      },
      "source": [
        "dataset['USA'] = (origin == 1) * 1.0\n",
        "dataset['EUROPE'] = (origin == 2) * 1.0\n",
        "dataset['JAPAN'] = (origin==3) * 1.0"
      ],
      "execution_count": 0,
      "outputs": []
    },
    {
      "cell_type": "code",
      "metadata": {
        "id": "DcFDavYfYIMh",
        "colab_type": "code",
        "outputId": "68b0d665-3916-4c23-eda8-4a6c23495fa5",
        "colab": {
          "base_uri": "https://localhost:8080/",
          "height": 204
        }
      },
      "source": [
        "dataset.head()"
      ],
      "execution_count": 47,
      "outputs": [
        {
          "output_type": "execute_result",
          "data": {
            "text/html": [
              "<div>\n",
              "<style scoped>\n",
              "    .dataframe tbody tr th:only-of-type {\n",
              "        vertical-align: middle;\n",
              "    }\n",
              "\n",
              "    .dataframe tbody tr th {\n",
              "        vertical-align: top;\n",
              "    }\n",
              "\n",
              "    .dataframe thead th {\n",
              "        text-align: right;\n",
              "    }\n",
              "</style>\n",
              "<table border=\"1\" class=\"dataframe\">\n",
              "  <thead>\n",
              "    <tr style=\"text-align: right;\">\n",
              "      <th></th>\n",
              "      <th>MPG</th>\n",
              "      <th>Cylinders</th>\n",
              "      <th>Displacement</th>\n",
              "      <th>HP</th>\n",
              "      <th>Weight</th>\n",
              "      <th>Acceleration</th>\n",
              "      <th>Model Year</th>\n",
              "      <th>USA</th>\n",
              "      <th>EUROPE</th>\n",
              "      <th>JAPAN</th>\n",
              "    </tr>\n",
              "  </thead>\n",
              "  <tbody>\n",
              "    <tr>\n",
              "      <th>0</th>\n",
              "      <td>18.0</td>\n",
              "      <td>8</td>\n",
              "      <td>307.0</td>\n",
              "      <td>130.0</td>\n",
              "      <td>3504.0</td>\n",
              "      <td>12.0</td>\n",
              "      <td>70</td>\n",
              "      <td>1.0</td>\n",
              "      <td>0.0</td>\n",
              "      <td>0.0</td>\n",
              "    </tr>\n",
              "    <tr>\n",
              "      <th>1</th>\n",
              "      <td>15.0</td>\n",
              "      <td>8</td>\n",
              "      <td>350.0</td>\n",
              "      <td>165.0</td>\n",
              "      <td>3693.0</td>\n",
              "      <td>11.5</td>\n",
              "      <td>70</td>\n",
              "      <td>1.0</td>\n",
              "      <td>0.0</td>\n",
              "      <td>0.0</td>\n",
              "    </tr>\n",
              "    <tr>\n",
              "      <th>2</th>\n",
              "      <td>18.0</td>\n",
              "      <td>8</td>\n",
              "      <td>318.0</td>\n",
              "      <td>150.0</td>\n",
              "      <td>3436.0</td>\n",
              "      <td>11.0</td>\n",
              "      <td>70</td>\n",
              "      <td>1.0</td>\n",
              "      <td>0.0</td>\n",
              "      <td>0.0</td>\n",
              "    </tr>\n",
              "    <tr>\n",
              "      <th>3</th>\n",
              "      <td>16.0</td>\n",
              "      <td>8</td>\n",
              "      <td>304.0</td>\n",
              "      <td>150.0</td>\n",
              "      <td>3433.0</td>\n",
              "      <td>12.0</td>\n",
              "      <td>70</td>\n",
              "      <td>1.0</td>\n",
              "      <td>0.0</td>\n",
              "      <td>0.0</td>\n",
              "    </tr>\n",
              "    <tr>\n",
              "      <th>4</th>\n",
              "      <td>17.0</td>\n",
              "      <td>8</td>\n",
              "      <td>302.0</td>\n",
              "      <td>140.0</td>\n",
              "      <td>3449.0</td>\n",
              "      <td>10.5</td>\n",
              "      <td>70</td>\n",
              "      <td>1.0</td>\n",
              "      <td>0.0</td>\n",
              "      <td>0.0</td>\n",
              "    </tr>\n",
              "  </tbody>\n",
              "</table>\n",
              "</div>"
            ],
            "text/plain": [
              "    MPG  Cylinders  Displacement     HP  ...  Model Year  USA  EUROPE  JAPAN\n",
              "0  18.0          8         307.0  130.0  ...          70  1.0     0.0    0.0\n",
              "1  15.0          8         350.0  165.0  ...          70  1.0     0.0    0.0\n",
              "2  18.0          8         318.0  150.0  ...          70  1.0     0.0    0.0\n",
              "3  16.0          8         304.0  150.0  ...          70  1.0     0.0    0.0\n",
              "4  17.0          8         302.0  140.0  ...          70  1.0     0.0    0.0\n",
              "\n",
              "[5 rows x 10 columns]"
            ]
          },
          "metadata": {
            "tags": []
          },
          "execution_count": 47
        }
      ]
    },
    {
      "cell_type": "markdown",
      "metadata": {
        "id": "k2HJdyE6b9iE",
        "colab_type": "text"
      },
      "source": [
        "Split the dataset into train and tests sets"
      ]
    },
    {
      "cell_type": "code",
      "metadata": {
        "id": "fEHWWRD5YLIP",
        "colab_type": "code",
        "colab": {}
      },
      "source": [
        "train_dataset = dataset.sample(frac=0.8, random_state=0)\n",
        "test_dataset = dataset.drop(train_dataset.index) #test_dataset obtained as difference (removes sampled rows from original dataset)\n"
      ],
      "execution_count": 0,
      "outputs": []
    },
    {
      "cell_type": "markdown",
      "metadata": {
        "id": "1EHZ29ZDdX6V",
        "colab_type": "text"
      },
      "source": [
        "Output"
      ]
    },
    {
      "cell_type": "code",
      "metadata": {
        "id": "FrpnMlONdg93",
        "colab_type": "code",
        "colab": {}
      },
      "source": [
        "#labels = dataset.pop('MPG')\n",
        "\n",
        "train_labels = train_dataset.pop('MPG') #note that the output is called 'labels' but they are not labels, but numbers(MPG)\n",
        "test_labels = test_dataset.pop('MPG') #note that the output is called 'labels' but they are not labels, but numbers(MPG)"
      ],
      "execution_count": 0,
      "outputs": []
    },
    {
      "cell_type": "markdown",
      "metadata": {
        "id": "ayBlrew2d6DI",
        "colab_type": "text"
      },
      "source": [
        "Build model"
      ]
    },
    {
      "cell_type": "code",
      "metadata": {
        "id": "DtImhWQZd-ms",
        "colab_type": "code",
        "colab": {}
      },
      "source": [
        "model = Sequential()\n",
        "model.add(Dense(units=4, activation='relu', input_dim= train_dataset.shape[1]))\n",
        "model.add(Dense(units=6, activation='relu'))\n",
        "model.add(Dense(units=1)) #regression problem don't need an activation"
      ],
      "execution_count": 0,
      "outputs": []
    },
    {
      "cell_type": "code",
      "metadata": {
        "id": "FY6zT2hYfNgD",
        "colab_type": "code",
        "outputId": "358e9fb3-d523-4cc5-dc22-a709961242b6",
        "colab": {
          "base_uri": "https://localhost:8080/",
          "height": 255
        }
      },
      "source": [
        "model.summary()"
      ],
      "execution_count": 51,
      "outputs": [
        {
          "output_type": "stream",
          "text": [
            "Model: \"sequential_3\"\n",
            "_________________________________________________________________\n",
            "Layer (type)                 Output Shape              Param #   \n",
            "=================================================================\n",
            "dense_7 (Dense)              (None, 4)                 40        \n",
            "_________________________________________________________________\n",
            "dense_8 (Dense)              (None, 6)                 30        \n",
            "_________________________________________________________________\n",
            "dense_9 (Dense)              (None, 1)                 7         \n",
            "=================================================================\n",
            "Total params: 77\n",
            "Trainable params: 77\n",
            "Non-trainable params: 0\n",
            "_________________________________________________________________\n"
          ],
          "name": "stdout"
        }
      ]
    },
    {
      "cell_type": "markdown",
      "metadata": {
        "id": "lecqk6MW4Y_R",
        "colab_type": "text"
      },
      "source": [
        "Define a loss function and optimizer. Different from previous classification examples. Note tha the metric is a mean absolute error instead of accuracy."
      ]
    },
    {
      "cell_type": "code",
      "metadata": {
        "id": "qM5iKxEi30Sz",
        "colab_type": "code",
        "colab": {}
      },
      "source": [
        "model.compile(loss='mean_squared_error', optimizer='RMSprop', metrics=['mean_absolute_error'])"
      ],
      "execution_count": 0,
      "outputs": []
    },
    {
      "cell_type": "markdown",
      "metadata": {
        "id": "L9lSub-22Bx4",
        "colab_type": "text"
      },
      "source": [
        "Fit data "
      ]
    },
    {
      "cell_type": "code",
      "metadata": {
        "id": "N3pPn0bsz44M",
        "colab_type": "code",
        "outputId": "635fba3b-de5a-444d-a474-f5afd9c0b73e",
        "colab": {
          "base_uri": "https://localhost:8080/",
          "height": 1000
        }
      },
      "source": [
        "model.fit(train_dataset, train_labels, batch_size=16, epochs=100)"
      ],
      "execution_count": 53,
      "outputs": [
        {
          "output_type": "stream",
          "text": [
            "Epoch 1/100\n",
            "314/314 [==============================] - 0s 629us/step - loss: 803018.2428 - mean_absolute_error: 864.3202\n",
            "Epoch 2/100\n",
            "314/314 [==============================] - 0s 104us/step - loss: 499414.7992 - mean_absolute_error: 681.3737\n",
            "Epoch 3/100\n",
            "314/314 [==============================] - 0s 71us/step - loss: 317373.6606 - mean_absolute_error: 543.0773\n",
            "Epoch 4/100\n",
            "314/314 [==============================] - 0s 77us/step - loss: 203135.0334 - mean_absolute_error: 437.1684\n",
            "Epoch 5/100\n",
            "314/314 [==============================] - 0s 80us/step - loss: 133207.5041 - mean_absolute_error: 354.4870\n",
            "Epoch 6/100\n",
            "314/314 [==============================] - 0s 74us/step - loss: 84752.6311 - mean_absolute_error: 282.8393\n",
            "Epoch 7/100\n",
            "314/314 [==============================] - 0s 68us/step - loss: 50057.9170 - mean_absolute_error: 217.9849\n",
            "Epoch 8/100\n",
            "314/314 [==============================] - 0s 73us/step - loss: 26520.9092 - mean_absolute_error: 159.3507\n",
            "Epoch 9/100\n",
            "314/314 [==============================] - 0s 81us/step - loss: 13233.9912 - mean_absolute_error: 113.0233\n",
            "Epoch 10/100\n",
            "314/314 [==============================] - 0s 92us/step - loss: 7669.2799 - mean_absolute_error: 86.4638\n",
            "Epoch 11/100\n",
            "314/314 [==============================] - 0s 73us/step - loss: 3968.6674 - mean_absolute_error: 62.1774\n",
            "Epoch 12/100\n",
            "314/314 [==============================] - 0s 81us/step - loss: 1695.1632 - mean_absolute_error: 40.3243\n",
            "Epoch 13/100\n",
            "314/314 [==============================] - 0s 77us/step - loss: 691.5641 - mean_absolute_error: 25.0293\n",
            "Epoch 14/100\n",
            "314/314 [==============================] - 0s 77us/step - loss: 599.2871 - mean_absolute_error: 23.2212\n",
            "Epoch 15/100\n",
            "314/314 [==============================] - 0s 86us/step - loss: 593.4743 - mean_absolute_error: 23.1080\n",
            "Epoch 16/100\n",
            "314/314 [==============================] - 0s 75us/step - loss: 590.8865 - mean_absolute_error: 23.0556\n",
            "Epoch 17/100\n",
            "314/314 [==============================] - 0s 75us/step - loss: 589.0109 - mean_absolute_error: 23.0107\n",
            "Epoch 18/100\n",
            "314/314 [==============================] - 0s 83us/step - loss: 588.0436 - mean_absolute_error: 22.9893\n",
            "Epoch 19/100\n",
            "314/314 [==============================] - 0s 81us/step - loss: 587.1228 - mean_absolute_error: 22.9692\n",
            "Epoch 20/100\n",
            "314/314 [==============================] - 0s 80us/step - loss: 586.2098 - mean_absolute_error: 22.9492\n",
            "Epoch 21/100\n",
            "314/314 [==============================] - 0s 92us/step - loss: 585.2993 - mean_absolute_error: 22.9293\n",
            "Epoch 22/100\n",
            "314/314 [==============================] - 0s 82us/step - loss: 584.3795 - mean_absolute_error: 22.9096\n",
            "Epoch 23/100\n",
            "314/314 [==============================] - 0s 88us/step - loss: 583.4735 - mean_absolute_error: 22.8894\n",
            "Epoch 24/100\n",
            "314/314 [==============================] - 0s 81us/step - loss: 582.5688 - mean_absolute_error: 22.8698\n",
            "Epoch 25/100\n",
            "314/314 [==============================] - 0s 81us/step - loss: 581.6527 - mean_absolute_error: 22.8498\n",
            "Epoch 26/100\n",
            "314/314 [==============================] - 0s 71us/step - loss: 580.7429 - mean_absolute_error: 22.8299\n",
            "Epoch 27/100\n",
            "314/314 [==============================] - 0s 78us/step - loss: 579.8364 - mean_absolute_error: 22.8099\n",
            "Epoch 28/100\n",
            "314/314 [==============================] - 0s 88us/step - loss: 578.9214 - mean_absolute_error: 22.7900\n",
            "Epoch 29/100\n",
            "314/314 [==============================] - 0s 63us/step - loss: 578.0134 - mean_absolute_error: 22.7701\n",
            "Epoch 30/100\n",
            "314/314 [==============================] - 0s 110us/step - loss: 577.1126 - mean_absolute_error: 22.7501\n",
            "Epoch 31/100\n",
            "314/314 [==============================] - 0s 95us/step - loss: 576.2091 - mean_absolute_error: 22.7302\n",
            "Epoch 32/100\n",
            "314/314 [==============================] - 0s 97us/step - loss: 575.3045 - mean_absolute_error: 22.7103\n",
            "Epoch 33/100\n",
            "314/314 [==============================] - 0s 72us/step - loss: 574.3968 - mean_absolute_error: 22.6905\n",
            "Epoch 34/100\n",
            "314/314 [==============================] - 0s 73us/step - loss: 573.4944 - mean_absolute_error: 22.6705\n",
            "Epoch 35/100\n",
            "314/314 [==============================] - 0s 73us/step - loss: 572.5868 - mean_absolute_error: 22.6507\n",
            "Epoch 36/100\n",
            "314/314 [==============================] - 0s 87us/step - loss: 571.6773 - mean_absolute_error: 22.6307\n",
            "Epoch 37/100\n",
            "314/314 [==============================] - 0s 71us/step - loss: 570.7814 - mean_absolute_error: 22.6106\n",
            "Epoch 38/100\n",
            "314/314 [==============================] - 0s 73us/step - loss: 569.8837 - mean_absolute_error: 22.5908\n",
            "Epoch 39/100\n",
            "314/314 [==============================] - 0s 81us/step - loss: 568.9827 - mean_absolute_error: 22.5709\n",
            "Epoch 40/100\n",
            "314/314 [==============================] - 0s 70us/step - loss: 568.0840 - mean_absolute_error: 22.5509\n",
            "Epoch 41/100\n",
            "314/314 [==============================] - 0s 99us/step - loss: 567.1905 - mean_absolute_error: 22.5310\n",
            "Epoch 42/100\n",
            "314/314 [==============================] - 0s 74us/step - loss: 566.2958 - mean_absolute_error: 22.5111\n",
            "Epoch 43/100\n",
            "314/314 [==============================] - 0s 74us/step - loss: 565.3968 - mean_absolute_error: 22.4912\n",
            "Epoch 44/100\n",
            "314/314 [==============================] - 0s 77us/step - loss: 564.5012 - mean_absolute_error: 22.4712\n",
            "Epoch 45/100\n",
            "314/314 [==============================] - 0s 76us/step - loss: 563.6052 - mean_absolute_error: 22.4514\n",
            "Epoch 46/100\n",
            "314/314 [==============================] - 0s 67us/step - loss: 562.7115 - mean_absolute_error: 22.4314\n",
            "Epoch 47/100\n",
            "314/314 [==============================] - 0s 74us/step - loss: 561.8203 - mean_absolute_error: 22.4116\n",
            "Epoch 48/100\n",
            "314/314 [==============================] - 0s 88us/step - loss: 560.9209 - mean_absolute_error: 22.3916\n",
            "Epoch 49/100\n",
            "314/314 [==============================] - 0s 77us/step - loss: 560.0319 - mean_absolute_error: 22.3716\n",
            "Epoch 50/100\n",
            "314/314 [==============================] - 0s 77us/step - loss: 559.1382 - mean_absolute_error: 22.3518\n",
            "Epoch 51/100\n",
            "314/314 [==============================] - 0s 110us/step - loss: 558.2461 - mean_absolute_error: 22.3318\n",
            "Epoch 52/100\n",
            "314/314 [==============================] - 0s 84us/step - loss: 557.3561 - mean_absolute_error: 22.3120\n",
            "Epoch 53/100\n",
            "314/314 [==============================] - 0s 76us/step - loss: 556.4702 - mean_absolute_error: 22.2919\n",
            "Epoch 54/100\n",
            "314/314 [==============================] - 0s 74us/step - loss: 555.5846 - mean_absolute_error: 22.2721\n",
            "Epoch 55/100\n",
            "314/314 [==============================] - 0s 83us/step - loss: 554.6953 - mean_absolute_error: 22.2522\n",
            "Epoch 56/100\n",
            "314/314 [==============================] - 0s 82us/step - loss: 553.8168 - mean_absolute_error: 22.2321\n",
            "Epoch 57/100\n",
            "314/314 [==============================] - 0s 89us/step - loss: 552.9357 - mean_absolute_error: 22.2123\n",
            "Epoch 58/100\n",
            "314/314 [==============================] - 0s 74us/step - loss: 552.0423 - mean_absolute_error: 22.1925\n",
            "Epoch 59/100\n",
            "314/314 [==============================] - 0s 84us/step - loss: 551.1714 - mean_absolute_error: 22.1724\n",
            "Epoch 60/100\n",
            "314/314 [==============================] - 0s 74us/step - loss: 550.2896 - mean_absolute_error: 22.1527\n",
            "Epoch 61/100\n",
            "314/314 [==============================] - 0s 72us/step - loss: 549.4035 - mean_absolute_error: 22.1328\n",
            "Epoch 62/100\n",
            "314/314 [==============================] - 0s 83us/step - loss: 548.5174 - mean_absolute_error: 22.1129\n",
            "Epoch 63/100\n",
            "314/314 [==============================] - 0s 79us/step - loss: 547.6355 - mean_absolute_error: 22.0929\n",
            "Epoch 64/100\n",
            "314/314 [==============================] - 0s 70us/step - loss: 546.7553 - mean_absolute_error: 22.0730\n",
            "Epoch 65/100\n",
            "314/314 [==============================] - 0s 72us/step - loss: 545.8751 - mean_absolute_error: 22.0531\n",
            "Epoch 66/100\n",
            "314/314 [==============================] - 0s 101us/step - loss: 544.9988 - mean_absolute_error: 22.0331\n",
            "Epoch 67/100\n",
            "314/314 [==============================] - 0s 82us/step - loss: 544.1257 - mean_absolute_error: 22.0133\n",
            "Epoch 68/100\n",
            "314/314 [==============================] - 0s 83us/step - loss: 543.2529 - mean_absolute_error: 21.9933\n",
            "Epoch 69/100\n",
            "314/314 [==============================] - 0s 73us/step - loss: 542.3750 - mean_absolute_error: 21.9735\n",
            "Epoch 70/100\n",
            "314/314 [==============================] - 0s 75us/step - loss: 541.4976 - mean_absolute_error: 21.9535\n",
            "Epoch 71/100\n",
            "314/314 [==============================] - 0s 86us/step - loss: 540.6255 - mean_absolute_error: 21.9335\n",
            "Epoch 72/100\n",
            "314/314 [==============================] - 0s 76us/step - loss: 539.7580 - mean_absolute_error: 21.9137\n",
            "Epoch 73/100\n",
            "314/314 [==============================] - 0s 86us/step - loss: 538.8835 - mean_absolute_error: 21.8938\n",
            "Epoch 74/100\n",
            "314/314 [==============================] - 0s 79us/step - loss: 538.0137 - mean_absolute_error: 21.8740\n",
            "Epoch 75/100\n",
            "314/314 [==============================] - 0s 75us/step - loss: 537.1421 - mean_absolute_error: 21.8539\n",
            "Epoch 76/100\n",
            "314/314 [==============================] - 0s 75us/step - loss: 536.2708 - mean_absolute_error: 21.8341\n",
            "Epoch 77/100\n",
            "314/314 [==============================] - 0s 79us/step - loss: 535.3973 - mean_absolute_error: 21.8142\n",
            "Epoch 78/100\n",
            "314/314 [==============================] - 0s 74us/step - loss: 534.5300 - mean_absolute_error: 21.7942\n",
            "Epoch 79/100\n",
            "314/314 [==============================] - 0s 84us/step - loss: 533.6657 - mean_absolute_error: 21.7743\n",
            "Epoch 80/100\n",
            "314/314 [==============================] - 0s 91us/step - loss: 532.8008 - mean_absolute_error: 21.7543\n",
            "Epoch 81/100\n",
            "314/314 [==============================] - 0s 82us/step - loss: 531.9365 - mean_absolute_error: 21.7345\n",
            "Epoch 82/100\n",
            "314/314 [==============================] - 0s 81us/step - loss: 531.0635 - mean_absolute_error: 21.7146\n",
            "Epoch 83/100\n",
            "314/314 [==============================] - 0s 72us/step - loss: 530.1932 - mean_absolute_error: 21.6947\n",
            "Epoch 84/100\n",
            "314/314 [==============================] - 0s 67us/step - loss: 529.3291 - mean_absolute_error: 21.6746\n",
            "Epoch 85/100\n",
            "314/314 [==============================] - 0s 82us/step - loss: 528.4706 - mean_absolute_error: 21.6549\n",
            "Epoch 86/100\n",
            "314/314 [==============================] - 0s 75us/step - loss: 527.6112 - mean_absolute_error: 21.6348\n",
            "Epoch 87/100\n",
            "314/314 [==============================] - 0s 79us/step - loss: 526.7544 - mean_absolute_error: 21.6151\n",
            "Epoch 88/100\n",
            "314/314 [==============================] - 0s 85us/step - loss: 525.8973 - mean_absolute_error: 21.5951\n",
            "Epoch 89/100\n",
            "314/314 [==============================] - 0s 69us/step - loss: 525.0363 - mean_absolute_error: 21.5752\n",
            "Epoch 90/100\n",
            "314/314 [==============================] - 0s 77us/step - loss: 524.1763 - mean_absolute_error: 21.5554\n",
            "Epoch 91/100\n",
            "314/314 [==============================] - 0s 86us/step - loss: 523.3187 - mean_absolute_error: 21.5354\n",
            "Epoch 92/100\n",
            "314/314 [==============================] - 0s 85us/step - loss: 522.4643 - mean_absolute_error: 21.5155\n",
            "Epoch 93/100\n",
            "314/314 [==============================] - 0s 74us/step - loss: 521.6024 - mean_absolute_error: 21.4956\n",
            "Epoch 94/100\n",
            "314/314 [==============================] - 0s 70us/step - loss: 520.7432 - mean_absolute_error: 21.4758\n",
            "Epoch 95/100\n",
            "314/314 [==============================] - 0s 87us/step - loss: 519.8903 - mean_absolute_error: 21.4557\n",
            "Epoch 96/100\n",
            "314/314 [==============================] - 0s 74us/step - loss: 519.0371 - mean_absolute_error: 21.4359\n",
            "Epoch 97/100\n",
            "314/314 [==============================] - 0s 79us/step - loss: 518.1847 - mean_absolute_error: 21.4160\n",
            "Epoch 98/100\n",
            "314/314 [==============================] - 0s 86us/step - loss: 517.3364 - mean_absolute_error: 21.3960\n",
            "Epoch 99/100\n",
            "314/314 [==============================] - 0s 87us/step - loss: 516.4832 - mean_absolute_error: 21.3762\n",
            "Epoch 100/100\n",
            "314/314 [==============================] - 0s 73us/step - loss: 515.6339 - mean_absolute_error: 21.3563\n"
          ],
          "name": "stdout"
        },
        {
          "output_type": "execute_result",
          "data": {
            "text/plain": [
              "<keras.callbacks.History at 0x7f367aa47dd8>"
            ]
          },
          "metadata": {
            "tags": []
          },
          "execution_count": 53
        }
      ]
    },
    {
      "cell_type": "code",
      "metadata": {
        "id": "opa_hxrd2jvy",
        "colab_type": "code",
        "outputId": "5025298b-0a89-46c0-b7d0-9f37b56f236f",
        "colab": {
          "base_uri": "https://localhost:8080/",
          "height": 204
        }
      },
      "source": [
        "train_dataset.head()"
      ],
      "execution_count": 54,
      "outputs": [
        {
          "output_type": "execute_result",
          "data": {
            "text/html": [
              "<div>\n",
              "<style scoped>\n",
              "    .dataframe tbody tr th:only-of-type {\n",
              "        vertical-align: middle;\n",
              "    }\n",
              "\n",
              "    .dataframe tbody tr th {\n",
              "        vertical-align: top;\n",
              "    }\n",
              "\n",
              "    .dataframe thead th {\n",
              "        text-align: right;\n",
              "    }\n",
              "</style>\n",
              "<table border=\"1\" class=\"dataframe\">\n",
              "  <thead>\n",
              "    <tr style=\"text-align: right;\">\n",
              "      <th></th>\n",
              "      <th>Cylinders</th>\n",
              "      <th>Displacement</th>\n",
              "      <th>HP</th>\n",
              "      <th>Weight</th>\n",
              "      <th>Acceleration</th>\n",
              "      <th>Model Year</th>\n",
              "      <th>USA</th>\n",
              "      <th>EUROPE</th>\n",
              "      <th>JAPAN</th>\n",
              "    </tr>\n",
              "  </thead>\n",
              "  <tbody>\n",
              "    <tr>\n",
              "      <th>146</th>\n",
              "      <td>4</td>\n",
              "      <td>90.0</td>\n",
              "      <td>75.0</td>\n",
              "      <td>2125.0</td>\n",
              "      <td>14.5</td>\n",
              "      <td>74</td>\n",
              "      <td>1.0</td>\n",
              "      <td>0.0</td>\n",
              "      <td>0.0</td>\n",
              "    </tr>\n",
              "    <tr>\n",
              "      <th>282</th>\n",
              "      <td>4</td>\n",
              "      <td>140.0</td>\n",
              "      <td>88.0</td>\n",
              "      <td>2890.0</td>\n",
              "      <td>17.3</td>\n",
              "      <td>79</td>\n",
              "      <td>1.0</td>\n",
              "      <td>0.0</td>\n",
              "      <td>0.0</td>\n",
              "    </tr>\n",
              "    <tr>\n",
              "      <th>69</th>\n",
              "      <td>8</td>\n",
              "      <td>350.0</td>\n",
              "      <td>160.0</td>\n",
              "      <td>4456.0</td>\n",
              "      <td>13.5</td>\n",
              "      <td>72</td>\n",
              "      <td>1.0</td>\n",
              "      <td>0.0</td>\n",
              "      <td>0.0</td>\n",
              "    </tr>\n",
              "    <tr>\n",
              "      <th>378</th>\n",
              "      <td>4</td>\n",
              "      <td>105.0</td>\n",
              "      <td>63.0</td>\n",
              "      <td>2125.0</td>\n",
              "      <td>14.7</td>\n",
              "      <td>82</td>\n",
              "      <td>1.0</td>\n",
              "      <td>0.0</td>\n",
              "      <td>0.0</td>\n",
              "    </tr>\n",
              "    <tr>\n",
              "      <th>331</th>\n",
              "      <td>4</td>\n",
              "      <td>97.0</td>\n",
              "      <td>67.0</td>\n",
              "      <td>2145.0</td>\n",
              "      <td>18.0</td>\n",
              "      <td>80</td>\n",
              "      <td>0.0</td>\n",
              "      <td>0.0</td>\n",
              "      <td>1.0</td>\n",
              "    </tr>\n",
              "  </tbody>\n",
              "</table>\n",
              "</div>"
            ],
            "text/plain": [
              "     Cylinders  Displacement     HP  Weight  ...  Model Year  USA  EUROPE  JAPAN\n",
              "146          4          90.0   75.0  2125.0  ...          74  1.0     0.0    0.0\n",
              "282          4         140.0   88.0  2890.0  ...          79  1.0     0.0    0.0\n",
              "69           8         350.0  160.0  4456.0  ...          72  1.0     0.0    0.0\n",
              "378          4         105.0   63.0  2125.0  ...          82  1.0     0.0    0.0\n",
              "331          4          97.0   67.0  2145.0  ...          80  0.0     0.0    1.0\n",
              "\n",
              "[5 rows x 9 columns]"
            ]
          },
          "metadata": {
            "tags": []
          },
          "execution_count": 54
        }
      ]
    },
    {
      "cell_type": "code",
      "metadata": {
        "id": "y0bPyMZC6gye",
        "colab_type": "code",
        "colab": {}
      },
      "source": [
        ""
      ],
      "execution_count": 0,
      "outputs": []
    }
  ]
}