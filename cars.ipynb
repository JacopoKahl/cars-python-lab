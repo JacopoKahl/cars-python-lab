{
  "nbformat": 4,
  "nbformat_minor": 0,
  "metadata": {
    "colab": {
      "name": "cars.ipynb",
      "provenance": [],
      "collapsed_sections": [],
      "authorship_tag": "ABX9TyMOfBuy2KWNvLRdUq0G1a+7",
      "include_colab_link": true
    },
    "kernelspec": {
      "name": "python3",
      "display_name": "Python 3"
    },
    "accelerator": "TPU"
  },
  "cells": [
    {
      "cell_type": "markdown",
      "metadata": {
        "id": "view-in-github",
        "colab_type": "text"
      },
      "source": [
        "<a href=\"https://colab.research.google.com/github/JacopoKahl/cars-python-lab/blob/master/cars.ipynb\" target=\"_parent\"><img src=\"https://colab.research.google.com/assets/colab-badge.svg\" alt=\"Open In Colab\"/></a>"
      ]
    },
    {
      "cell_type": "markdown",
      "metadata": {
        "id": "FNGx3AnERmrC",
        "colab_type": "text"
      },
      "source": [
        "#Cars - Regression task\n",
        "\n",
        "Objectives: predict mpg(miles per gallon) given veichle features\n",
        "\n",
        "Import libraries and functions"
      ]
    },
    {
      "cell_type": "code",
      "metadata": {
        "id": "nFVkpBa4Rj-L",
        "colab_type": "code",
        "colab": {
          "base_uri": "https://localhost:8080/",
          "height": 80
        },
        "outputId": "64a40167-7ab4-41e2-d773-b7427db84fa1"
      },
      "source": [
        "from keras.models import Sequential\n",
        "from keras.layers import Dense\n",
        "\n",
        "import pandas as pd #Manage dataset"
      ],
      "execution_count": 1,
      "outputs": [
        {
          "output_type": "stream",
          "text": [
            "Using TensorFlow backend.\n"
          ],
          "name": "stderr"
        },
        {
          "output_type": "display_data",
          "data": {
            "text/html": [
              "<p style=\"color: red;\">\n",
              "The default version of TensorFlow in Colab will soon switch to TensorFlow 2.x.<br>\n",
              "We recommend you <a href=\"https://www.tensorflow.org/guide/migrate\" target=\"_blank\">upgrade</a> now \n",
              "or ensure your notebook will continue to use TensorFlow 1.x via the <code>%tensorflow_version 1.x</code> magic:\n",
              "<a href=\"https://colab.research.google.com/notebooks/tensorflow_version.ipynb\" target=\"_blank\">more info</a>.</p>\n"
            ],
            "text/plain": [
              "<IPython.core.display.HTML object>"
            ]
          },
          "metadata": {
            "tags": []
          }
        }
      ]
    },
    {
      "cell_type": "markdown",
      "metadata": {
        "id": "zpQ3WbEQTL2a",
        "colab_type": "text"
      },
      "source": [
        "Labels"
      ]
    },
    {
      "cell_type": "code",
      "metadata": {
        "id": "6p7sL4h_UJbn",
        "colab_type": "code",
        "colab": {}
      },
      "source": [
        "column_names=['MPG', 'Cylinders', 'Displacement', 'HP', 'Weight', 'Acceleration', 'Model Year', 'Origin']"
      ],
      "execution_count": 0,
      "outputs": []
    },
    {
      "cell_type": "markdown",
      "metadata": {
        "id": "dh34Cw6RUyBd",
        "colab_type": "text"
      },
      "source": [
        "Load Dataset"
      ]
    },
    {
      "cell_type": "code",
      "metadata": {
        "id": "u2YnyjR7U09Y",
        "colab_type": "code",
        "colab": {}
      },
      "source": [
        "dataset = pd.read_csv('auto-mpg.data', names=column_names, na_values = '?', sep=' ', skipinitialspace=True, comment='\\t')"
      ],
      "execution_count": 0,
      "outputs": []
    },
    {
      "cell_type": "code",
      "metadata": {
        "id": "cN4d4IcHVhJ_",
        "colab_type": "code",
        "outputId": "8b966004-b31d-4ca3-e625-18d4fe8e4da0",
        "colab": {
          "base_uri": "https://localhost:8080/",
          "height": 204
        }
      },
      "source": [
        "dataset.head()"
      ],
      "execution_count": 4,
      "outputs": [
        {
          "output_type": "execute_result",
          "data": {
            "text/html": [
              "<div>\n",
              "<style scoped>\n",
              "    .dataframe tbody tr th:only-of-type {\n",
              "        vertical-align: middle;\n",
              "    }\n",
              "\n",
              "    .dataframe tbody tr th {\n",
              "        vertical-align: top;\n",
              "    }\n",
              "\n",
              "    .dataframe thead th {\n",
              "        text-align: right;\n",
              "    }\n",
              "</style>\n",
              "<table border=\"1\" class=\"dataframe\">\n",
              "  <thead>\n",
              "    <tr style=\"text-align: right;\">\n",
              "      <th></th>\n",
              "      <th>MPG</th>\n",
              "      <th>Cylinders</th>\n",
              "      <th>Displacement</th>\n",
              "      <th>HP</th>\n",
              "      <th>Weight</th>\n",
              "      <th>Acceleration</th>\n",
              "      <th>Model Year</th>\n",
              "      <th>Origin</th>\n",
              "    </tr>\n",
              "  </thead>\n",
              "  <tbody>\n",
              "    <tr>\n",
              "      <th>0</th>\n",
              "      <td>18.0</td>\n",
              "      <td>8</td>\n",
              "      <td>307.0</td>\n",
              "      <td>130.0</td>\n",
              "      <td>3504.0</td>\n",
              "      <td>12.0</td>\n",
              "      <td>70</td>\n",
              "      <td>1</td>\n",
              "    </tr>\n",
              "    <tr>\n",
              "      <th>1</th>\n",
              "      <td>15.0</td>\n",
              "      <td>8</td>\n",
              "      <td>350.0</td>\n",
              "      <td>165.0</td>\n",
              "      <td>3693.0</td>\n",
              "      <td>11.5</td>\n",
              "      <td>70</td>\n",
              "      <td>1</td>\n",
              "    </tr>\n",
              "    <tr>\n",
              "      <th>2</th>\n",
              "      <td>18.0</td>\n",
              "      <td>8</td>\n",
              "      <td>318.0</td>\n",
              "      <td>150.0</td>\n",
              "      <td>3436.0</td>\n",
              "      <td>11.0</td>\n",
              "      <td>70</td>\n",
              "      <td>1</td>\n",
              "    </tr>\n",
              "    <tr>\n",
              "      <th>3</th>\n",
              "      <td>16.0</td>\n",
              "      <td>8</td>\n",
              "      <td>304.0</td>\n",
              "      <td>150.0</td>\n",
              "      <td>3433.0</td>\n",
              "      <td>12.0</td>\n",
              "      <td>70</td>\n",
              "      <td>1</td>\n",
              "    </tr>\n",
              "    <tr>\n",
              "      <th>4</th>\n",
              "      <td>17.0</td>\n",
              "      <td>8</td>\n",
              "      <td>302.0</td>\n",
              "      <td>140.0</td>\n",
              "      <td>3449.0</td>\n",
              "      <td>10.5</td>\n",
              "      <td>70</td>\n",
              "      <td>1</td>\n",
              "    </tr>\n",
              "  </tbody>\n",
              "</table>\n",
              "</div>"
            ],
            "text/plain": [
              "    MPG  Cylinders  Displacement  ...  Acceleration  Model Year  Origin\n",
              "0  18.0          8         307.0  ...          12.0          70       1\n",
              "1  15.0          8         350.0  ...          11.5          70       1\n",
              "2  18.0          8         318.0  ...          11.0          70       1\n",
              "3  16.0          8         304.0  ...          12.0          70       1\n",
              "4  17.0          8         302.0  ...          10.5          70       1\n",
              "\n",
              "[5 rows x 8 columns]"
            ]
          },
          "metadata": {
            "tags": []
          },
          "execution_count": 4
        }
      ]
    },
    {
      "cell_type": "markdown",
      "metadata": {
        "id": "zFuLOYBCXMIF",
        "colab_type": "text"
      },
      "source": [
        "Data cleaning"
      ]
    },
    {
      "cell_type": "code",
      "metadata": {
        "id": "DbJ8WAfKXOEt",
        "colab_type": "code",
        "outputId": "85916bd9-cc40-42ec-a57b-7e8fa6625107",
        "colab": {
          "base_uri": "https://localhost:8080/",
          "height": 170
        }
      },
      "source": [
        "dataset.isna().sum()"
      ],
      "execution_count": 5,
      "outputs": [
        {
          "output_type": "execute_result",
          "data": {
            "text/plain": [
              "MPG             0\n",
              "Cylinders       0\n",
              "Displacement    0\n",
              "HP              6\n",
              "Weight          0\n",
              "Acceleration    0\n",
              "Model Year      0\n",
              "Origin          0\n",
              "dtype: int64"
            ]
          },
          "metadata": {
            "tags": []
          },
          "execution_count": 5
        }
      ]
    },
    {
      "cell_type": "markdown",
      "metadata": {
        "id": "73bblVXDXo3O",
        "colab_type": "text"
      },
      "source": [
        "Brutal data cleaning approach: drop the rows with NaNs"
      ]
    },
    {
      "cell_type": "code",
      "metadata": {
        "id": "YYtWUNr4Xvuw",
        "colab_type": "code",
        "colab": {}
      },
      "source": [
        "dataset = dataset.dropna() #overwrite the previous dataset with a cleaned one (removing rows with NaNs)"
      ],
      "execution_count": 0,
      "outputs": []
    },
    {
      "cell_type": "code",
      "metadata": {
        "id": "lt4M3OrSYF_M",
        "colab_type": "code",
        "outputId": "0b4a598c-464e-4a7a-acc8-f51077e596cf",
        "colab": {
          "base_uri": "https://localhost:8080/",
          "height": 170
        }
      },
      "source": [
        "dataset.isna().sum()"
      ],
      "execution_count": 7,
      "outputs": [
        {
          "output_type": "execute_result",
          "data": {
            "text/plain": [
              "MPG             0\n",
              "Cylinders       0\n",
              "Displacement    0\n",
              "HP              0\n",
              "Weight          0\n",
              "Acceleration    0\n",
              "Model Year      0\n",
              "Origin          0\n",
              "dtype: int64"
            ]
          },
          "metadata": {
            "tags": []
          },
          "execution_count": 7
        }
      ]
    },
    {
      "cell_type": "code",
      "metadata": {
        "id": "DcFDavYfYIMh",
        "colab_type": "code",
        "outputId": "f32821dd-8a61-4a29-8061-96245867185d",
        "colab": {
          "base_uri": "https://localhost:8080/",
          "height": 297
        }
      },
      "source": [
        "dataset.describe()"
      ],
      "execution_count": 8,
      "outputs": [
        {
          "output_type": "execute_result",
          "data": {
            "text/html": [
              "<div>\n",
              "<style scoped>\n",
              "    .dataframe tbody tr th:only-of-type {\n",
              "        vertical-align: middle;\n",
              "    }\n",
              "\n",
              "    .dataframe tbody tr th {\n",
              "        vertical-align: top;\n",
              "    }\n",
              "\n",
              "    .dataframe thead th {\n",
              "        text-align: right;\n",
              "    }\n",
              "</style>\n",
              "<table border=\"1\" class=\"dataframe\">\n",
              "  <thead>\n",
              "    <tr style=\"text-align: right;\">\n",
              "      <th></th>\n",
              "      <th>MPG</th>\n",
              "      <th>Cylinders</th>\n",
              "      <th>Displacement</th>\n",
              "      <th>HP</th>\n",
              "      <th>Weight</th>\n",
              "      <th>Acceleration</th>\n",
              "      <th>Model Year</th>\n",
              "      <th>Origin</th>\n",
              "    </tr>\n",
              "  </thead>\n",
              "  <tbody>\n",
              "    <tr>\n",
              "      <th>count</th>\n",
              "      <td>392.000000</td>\n",
              "      <td>392.000000</td>\n",
              "      <td>392.000000</td>\n",
              "      <td>392.000000</td>\n",
              "      <td>392.000000</td>\n",
              "      <td>392.000000</td>\n",
              "      <td>392.000000</td>\n",
              "      <td>392.000000</td>\n",
              "    </tr>\n",
              "    <tr>\n",
              "      <th>mean</th>\n",
              "      <td>23.445918</td>\n",
              "      <td>5.471939</td>\n",
              "      <td>194.411990</td>\n",
              "      <td>104.469388</td>\n",
              "      <td>2977.584184</td>\n",
              "      <td>15.541327</td>\n",
              "      <td>75.979592</td>\n",
              "      <td>1.576531</td>\n",
              "    </tr>\n",
              "    <tr>\n",
              "      <th>std</th>\n",
              "      <td>7.805007</td>\n",
              "      <td>1.705783</td>\n",
              "      <td>104.644004</td>\n",
              "      <td>38.491160</td>\n",
              "      <td>849.402560</td>\n",
              "      <td>2.758864</td>\n",
              "      <td>3.683737</td>\n",
              "      <td>0.805518</td>\n",
              "    </tr>\n",
              "    <tr>\n",
              "      <th>min</th>\n",
              "      <td>9.000000</td>\n",
              "      <td>3.000000</td>\n",
              "      <td>68.000000</td>\n",
              "      <td>46.000000</td>\n",
              "      <td>1613.000000</td>\n",
              "      <td>8.000000</td>\n",
              "      <td>70.000000</td>\n",
              "      <td>1.000000</td>\n",
              "    </tr>\n",
              "    <tr>\n",
              "      <th>25%</th>\n",
              "      <td>17.000000</td>\n",
              "      <td>4.000000</td>\n",
              "      <td>105.000000</td>\n",
              "      <td>75.000000</td>\n",
              "      <td>2225.250000</td>\n",
              "      <td>13.775000</td>\n",
              "      <td>73.000000</td>\n",
              "      <td>1.000000</td>\n",
              "    </tr>\n",
              "    <tr>\n",
              "      <th>50%</th>\n",
              "      <td>22.750000</td>\n",
              "      <td>4.000000</td>\n",
              "      <td>151.000000</td>\n",
              "      <td>93.500000</td>\n",
              "      <td>2803.500000</td>\n",
              "      <td>15.500000</td>\n",
              "      <td>76.000000</td>\n",
              "      <td>1.000000</td>\n",
              "    </tr>\n",
              "    <tr>\n",
              "      <th>75%</th>\n",
              "      <td>29.000000</td>\n",
              "      <td>8.000000</td>\n",
              "      <td>275.750000</td>\n",
              "      <td>126.000000</td>\n",
              "      <td>3614.750000</td>\n",
              "      <td>17.025000</td>\n",
              "      <td>79.000000</td>\n",
              "      <td>2.000000</td>\n",
              "    </tr>\n",
              "    <tr>\n",
              "      <th>max</th>\n",
              "      <td>46.600000</td>\n",
              "      <td>8.000000</td>\n",
              "      <td>455.000000</td>\n",
              "      <td>230.000000</td>\n",
              "      <td>5140.000000</td>\n",
              "      <td>24.800000</td>\n",
              "      <td>82.000000</td>\n",
              "      <td>3.000000</td>\n",
              "    </tr>\n",
              "  </tbody>\n",
              "</table>\n",
              "</div>"
            ],
            "text/plain": [
              "              MPG   Cylinders  ...  Model Year      Origin\n",
              "count  392.000000  392.000000  ...  392.000000  392.000000\n",
              "mean    23.445918    5.471939  ...   75.979592    1.576531\n",
              "std      7.805007    1.705783  ...    3.683737    0.805518\n",
              "min      9.000000    3.000000  ...   70.000000    1.000000\n",
              "25%     17.000000    4.000000  ...   73.000000    1.000000\n",
              "50%     22.750000    4.000000  ...   76.000000    1.000000\n",
              "75%     29.000000    8.000000  ...   79.000000    2.000000\n",
              "max     46.600000    8.000000  ...   82.000000    3.000000\n",
              "\n",
              "[8 rows x 8 columns]"
            ]
          },
          "metadata": {
            "tags": []
          },
          "execution_count": 8
        }
      ]
    },
    {
      "cell_type": "markdown",
      "metadata": {
        "id": "k2HJdyE6b9iE",
        "colab_type": "text"
      },
      "source": [
        "Split the dataset into train and tests sets"
      ]
    },
    {
      "cell_type": "code",
      "metadata": {
        "id": "fEHWWRD5YLIP",
        "colab_type": "code",
        "colab": {}
      },
      "source": [
        "train_dataset = dataset.sample(frac=0.8, random_state=0)\n",
        "test_dataset = dataset.drop(train_dataset.index) #test_dataset obtained as difference (removes sampled rows from original dataset)\n"
      ],
      "execution_count": 0,
      "outputs": []
    },
    {
      "cell_type": "markdown",
      "metadata": {
        "id": "1EHZ29ZDdX6V",
        "colab_type": "text"
      },
      "source": [
        "Output"
      ]
    },
    {
      "cell_type": "code",
      "metadata": {
        "id": "FrpnMlONdg93",
        "colab_type": "code",
        "colab": {}
      },
      "source": [
        "#labels = dataset.pop('MPG')\n",
        "\n",
        "train_labels = train_dataset.pop('MPG') #note that the output is called 'labels' but they are not labels, but numbers(MPG)\n",
        "test_labels = test_dataset.pop('MPG') #note that the output is called 'labels' but they are not labels, but numbers(MPG)"
      ],
      "execution_count": 0,
      "outputs": []
    },
    {
      "cell_type": "markdown",
      "metadata": {
        "id": "ayBlrew2d6DI",
        "colab_type": "text"
      },
      "source": [
        "Build model"
      ]
    },
    {
      "cell_type": "code",
      "metadata": {
        "id": "DtImhWQZd-ms",
        "colab_type": "code",
        "colab": {
          "base_uri": "https://localhost:8080/",
          "height": 139
        },
        "outputId": "1c7e27a7-6a9b-43aa-d16e-1b6992117103"
      },
      "source": [
        "model = Sequential()\n",
        "model.add(Dense(units=4, activation='relu', input_dim= train_dataset.shape[1]))\n",
        "model.add(Dense(units=6, activation='relu'))\n",
        "model.add(Dense(units=1)) #regression problem don't need an activation"
      ],
      "execution_count": 11,
      "outputs": [
        {
          "output_type": "stream",
          "text": [
            "WARNING:tensorflow:From /usr/local/lib/python3.6/dist-packages/keras/backend/tensorflow_backend.py:66: The name tf.get_default_graph is deprecated. Please use tf.compat.v1.get_default_graph instead.\n",
            "\n",
            "WARNING:tensorflow:From /usr/local/lib/python3.6/dist-packages/keras/backend/tensorflow_backend.py:541: The name tf.placeholder is deprecated. Please use tf.compat.v1.placeholder instead.\n",
            "\n",
            "WARNING:tensorflow:From /usr/local/lib/python3.6/dist-packages/keras/backend/tensorflow_backend.py:4432: The name tf.random_uniform is deprecated. Please use tf.random.uniform instead.\n",
            "\n"
          ],
          "name": "stdout"
        }
      ]
    },
    {
      "cell_type": "code",
      "metadata": {
        "id": "FY6zT2hYfNgD",
        "colab_type": "code",
        "outputId": "22793a90-e918-437f-ea01-932068b59655",
        "colab": {
          "base_uri": "https://localhost:8080/",
          "height": 255
        }
      },
      "source": [
        "model.summary()"
      ],
      "execution_count": 12,
      "outputs": [
        {
          "output_type": "stream",
          "text": [
            "Model: \"sequential_1\"\n",
            "_________________________________________________________________\n",
            "Layer (type)                 Output Shape              Param #   \n",
            "=================================================================\n",
            "dense_1 (Dense)              (None, 4)                 32        \n",
            "_________________________________________________________________\n",
            "dense_2 (Dense)              (None, 6)                 30        \n",
            "_________________________________________________________________\n",
            "dense_3 (Dense)              (None, 1)                 7         \n",
            "=================================================================\n",
            "Total params: 69\n",
            "Trainable params: 69\n",
            "Non-trainable params: 0\n",
            "_________________________________________________________________\n"
          ],
          "name": "stdout"
        }
      ]
    },
    {
      "cell_type": "markdown",
      "metadata": {
        "id": "lecqk6MW4Y_R",
        "colab_type": "text"
      },
      "source": [
        "Define a loss function and optimizer. Different from previous classification examples. Note tha the metric is a mean absolute error instead of accuracy."
      ]
    },
    {
      "cell_type": "code",
      "metadata": {
        "id": "qM5iKxEi30Sz",
        "colab_type": "code",
        "outputId": "79152aa9-36e3-4416-d5bf-46f401851a67",
        "colab": {
          "base_uri": "https://localhost:8080/",
          "height": 71
        }
      },
      "source": [
        "model.compile(loss='mean_squared_error', optimizer='RMSprop', metrics=['mean_absolute_error'])"
      ],
      "execution_count": 13,
      "outputs": [
        {
          "output_type": "stream",
          "text": [
            "WARNING:tensorflow:From /usr/local/lib/python3.6/dist-packages/keras/optimizers.py:793: The name tf.train.Optimizer is deprecated. Please use tf.compat.v1.train.Optimizer instead.\n",
            "\n"
          ],
          "name": "stdout"
        }
      ]
    },
    {
      "cell_type": "markdown",
      "metadata": {
        "id": "L9lSub-22Bx4",
        "colab_type": "text"
      },
      "source": [
        "Fit data "
      ]
    },
    {
      "cell_type": "code",
      "metadata": {
        "id": "N3pPn0bsz44M",
        "colab_type": "code",
        "outputId": "6fe0c7c8-1393-4dad-90f8-4a98a7c09078",
        "colab": {
          "base_uri": "https://localhost:8080/",
          "height": 1000
        }
      },
      "source": [
        "model.fit(train_dataset, train_labels, batch_size=16, epochs=100)"
      ],
      "execution_count": 14,
      "outputs": [
        {
          "output_type": "stream",
          "text": [
            "WARNING:tensorflow:From /usr/local/lib/python3.6/dist-packages/keras/backend/tensorflow_backend.py:1033: The name tf.assign_add is deprecated. Please use tf.compat.v1.assign_add instead.\n",
            "\n",
            "WARNING:tensorflow:From /usr/local/lib/python3.6/dist-packages/keras/backend/tensorflow_backend.py:1020: The name tf.assign is deprecated. Please use tf.compat.v1.assign instead.\n",
            "\n",
            "WARNING:tensorflow:From /usr/local/lib/python3.6/dist-packages/keras/backend/tensorflow_backend.py:3005: The name tf.Session is deprecated. Please use tf.compat.v1.Session instead.\n",
            "\n",
            "Epoch 1/100\n",
            "WARNING:tensorflow:From /usr/local/lib/python3.6/dist-packages/keras/backend/tensorflow_backend.py:190: The name tf.get_default_session is deprecated. Please use tf.compat.v1.get_default_session instead.\n",
            "\n",
            "WARNING:tensorflow:From /usr/local/lib/python3.6/dist-packages/keras/backend/tensorflow_backend.py:197: The name tf.ConfigProto is deprecated. Please use tf.compat.v1.ConfigProto instead.\n",
            "\n",
            "WARNING:tensorflow:From /usr/local/lib/python3.6/dist-packages/keras/backend/tensorflow_backend.py:207: The name tf.global_variables is deprecated. Please use tf.compat.v1.global_variables instead.\n",
            "\n",
            "WARNING:tensorflow:From /usr/local/lib/python3.6/dist-packages/keras/backend/tensorflow_backend.py:216: The name tf.is_variable_initialized is deprecated. Please use tf.compat.v1.is_variable_initialized instead.\n",
            "\n",
            "WARNING:tensorflow:From /usr/local/lib/python3.6/dist-packages/keras/backend/tensorflow_backend.py:223: The name tf.variables_initializer is deprecated. Please use tf.compat.v1.variables_initializer instead.\n",
            "\n",
            "314/314 [==============================] - 0s 2ms/step - loss: 543135.9791 - mean_absolute_error: 709.0698\n",
            "Epoch 2/100\n",
            "314/314 [==============================] - 0s 90us/step - loss: 367920.0490 - mean_absolute_error: 584.9158\n",
            "Epoch 3/100\n",
            "314/314 [==============================] - 0s 72us/step - loss: 257432.6642 - mean_absolute_error: 488.5940\n",
            "Epoch 4/100\n",
            "314/314 [==============================] - 0s 90us/step - loss: 176545.9070 - mean_absolute_error: 404.9088\n",
            "Epoch 5/100\n",
            "314/314 [==============================] - 0s 72us/step - loss: 117268.0604 - mean_absolute_error: 330.2599\n",
            "Epoch 6/100\n",
            "314/314 [==============================] - 0s 70us/step - loss: 76681.9345 - mean_absolute_error: 268.3364\n",
            "Epoch 7/100\n",
            "314/314 [==============================] - 0s 79us/step - loss: 51340.5294 - mean_absolute_error: 221.0442\n",
            "Epoch 8/100\n",
            "314/314 [==============================] - 0s 89us/step - loss: 35138.3605 - mean_absolute_error: 183.2950\n",
            "Epoch 9/100\n",
            "314/314 [==============================] - 0s 81us/step - loss: 23735.9072 - mean_absolute_error: 150.9409\n",
            "Epoch 10/100\n",
            "314/314 [==============================] - 0s 72us/step - loss: 15508.4263 - mean_absolute_error: 122.3929\n",
            "Epoch 11/100\n",
            "314/314 [==============================] - 0s 92us/step - loss: 9736.8138 - mean_absolute_error: 97.3973\n",
            "Epoch 12/100\n",
            "314/314 [==============================] - 0s 71us/step - loss: 5839.5450 - mean_absolute_error: 75.6691\n",
            "Epoch 13/100\n",
            "314/314 [==============================] - 0s 75us/step - loss: 3329.7472 - mean_absolute_error: 57.2263\n",
            "Epoch 14/100\n",
            "314/314 [==============================] - 0s 82us/step - loss: 1771.9340 - mean_absolute_error: 41.6385\n",
            "Epoch 15/100\n",
            "314/314 [==============================] - 0s 87us/step - loss: 865.5873 - mean_absolute_error: 28.4672\n",
            "Epoch 16/100\n",
            "314/314 [==============================] - 0s 82us/step - loss: 589.6993 - mean_absolute_error: 23.0251\n",
            "Epoch 17/100\n",
            "314/314 [==============================] - 0s 78us/step - loss: 588.8227 - mean_absolute_error: 23.0061\n",
            "Epoch 18/100\n",
            "314/314 [==============================] - 0s 68us/step - loss: 587.9088 - mean_absolute_error: 22.9864\n",
            "Epoch 19/100\n",
            "314/314 [==============================] - 0s 75us/step - loss: 586.9946 - mean_absolute_error: 22.9663\n",
            "Epoch 20/100\n",
            "314/314 [==============================] - 0s 72us/step - loss: 586.0796 - mean_absolute_error: 22.9465\n",
            "Epoch 21/100\n",
            "314/314 [==============================] - 0s 74us/step - loss: 585.1679 - mean_absolute_error: 22.9265\n",
            "Epoch 22/100\n",
            "314/314 [==============================] - 0s 119us/step - loss: 584.2598 - mean_absolute_error: 22.9065\n",
            "Epoch 23/100\n",
            "314/314 [==============================] - 0s 83us/step - loss: 583.3504 - mean_absolute_error: 22.8868\n",
            "Epoch 24/100\n",
            "314/314 [==============================] - 0s 80us/step - loss: 582.4322 - mean_absolute_error: 22.8669\n",
            "Epoch 25/100\n",
            "314/314 [==============================] - 0s 68us/step - loss: 581.5205 - mean_absolute_error: 22.8469\n",
            "Epoch 26/100\n",
            "314/314 [==============================] - 0s 85us/step - loss: 580.6142 - mean_absolute_error: 22.8269\n",
            "Epoch 27/100\n",
            "314/314 [==============================] - 0s 87us/step - loss: 579.7046 - mean_absolute_error: 22.8070\n",
            "Epoch 28/100\n",
            "314/314 [==============================] - 0s 75us/step - loss: 578.7926 - mean_absolute_error: 22.7872\n",
            "Epoch 29/100\n",
            "314/314 [==============================] - 0s 78us/step - loss: 577.8872 - mean_absolute_error: 22.7671\n",
            "Epoch 30/100\n",
            "314/314 [==============================] - 0s 67us/step - loss: 576.9811 - mean_absolute_error: 22.7474\n",
            "Epoch 31/100\n",
            "314/314 [==============================] - 0s 87us/step - loss: 576.0684 - mean_absolute_error: 22.7274\n",
            "Epoch 32/100\n",
            "314/314 [==============================] - 0s 97us/step - loss: 575.1723 - mean_absolute_error: 22.7074\n",
            "Epoch 33/100\n",
            "314/314 [==============================] - 0s 96us/step - loss: 574.2615 - mean_absolute_error: 22.6877\n",
            "Epoch 34/100\n",
            "314/314 [==============================] - 0s 85us/step - loss: 573.3605 - mean_absolute_error: 22.6677\n",
            "Epoch 35/100\n",
            "314/314 [==============================] - 0s 85us/step - loss: 572.4607 - mean_absolute_error: 22.6478\n",
            "Epoch 36/100\n",
            "314/314 [==============================] - 0s 80us/step - loss: 571.5650 - mean_absolute_error: 22.6279\n",
            "Epoch 37/100\n",
            "314/314 [==============================] - 0s 98us/step - loss: 570.6616 - mean_absolute_error: 22.6080\n",
            "Epoch 38/100\n",
            "314/314 [==============================] - 0s 76us/step - loss: 569.7611 - mean_absolute_error: 22.5881\n",
            "Epoch 39/100\n",
            "314/314 [==============================] - 0s 72us/step - loss: 568.8657 - mean_absolute_error: 22.5680\n",
            "Epoch 40/100\n",
            "314/314 [==============================] - 0s 83us/step - loss: 567.9721 - mean_absolute_error: 22.5483\n",
            "Epoch 41/100\n",
            "314/314 [==============================] - 0s 102us/step - loss: 567.0697 - mean_absolute_error: 22.5283\n",
            "Epoch 42/100\n",
            "314/314 [==============================] - 0s 85us/step - loss: 566.1698 - mean_absolute_error: 22.5084\n",
            "Epoch 43/100\n",
            "314/314 [==============================] - 0s 83us/step - loss: 565.2737 - mean_absolute_error: 22.4885\n",
            "Epoch 44/100\n",
            "314/314 [==============================] - 0s 101us/step - loss: 564.3854 - mean_absolute_error: 22.4685\n",
            "Epoch 45/100\n",
            "314/314 [==============================] - 0s 75us/step - loss: 563.4892 - mean_absolute_error: 22.4488\n",
            "Epoch 46/100\n",
            "314/314 [==============================] - 0s 73us/step - loss: 562.5942 - mean_absolute_error: 22.4287\n",
            "Epoch 47/100\n",
            "314/314 [==============================] - 0s 83us/step - loss: 561.7075 - mean_absolute_error: 22.4089\n",
            "Epoch 48/100\n",
            "314/314 [==============================] - 0s 79us/step - loss: 560.8095 - mean_absolute_error: 22.3891\n",
            "Epoch 49/100\n",
            "314/314 [==============================] - 0s 94us/step - loss: 559.9187 - mean_absolute_error: 22.3691\n",
            "Epoch 50/100\n",
            "314/314 [==============================] - 0s 80us/step - loss: 559.0301 - mean_absolute_error: 22.3491\n",
            "Epoch 51/100\n",
            "314/314 [==============================] - 0s 73us/step - loss: 558.1353 - mean_absolute_error: 22.3294\n",
            "Epoch 52/100\n",
            "314/314 [==============================] - 0s 74us/step - loss: 557.2510 - mean_absolute_error: 22.3092\n",
            "Epoch 53/100\n",
            "314/314 [==============================] - 0s 81us/step - loss: 556.3652 - mean_absolute_error: 22.2895\n",
            "Epoch 54/100\n",
            "314/314 [==============================] - 0s 82us/step - loss: 555.4752 - mean_absolute_error: 22.2696\n",
            "Epoch 55/100\n",
            "314/314 [==============================] - 0s 86us/step - loss: 554.5831 - mean_absolute_error: 22.2497\n",
            "Epoch 56/100\n",
            "314/314 [==============================] - 0s 71us/step - loss: 553.6981 - mean_absolute_error: 22.2297\n",
            "Epoch 57/100\n",
            "314/314 [==============================] - 0s 95us/step - loss: 552.8112 - mean_absolute_error: 22.2098\n",
            "Epoch 58/100\n",
            "314/314 [==============================] - 0s 70us/step - loss: 551.9302 - mean_absolute_error: 22.1899\n",
            "Epoch 59/100\n",
            "314/314 [==============================] - 0s 80us/step - loss: 551.0556 - mean_absolute_error: 22.1699\n",
            "Epoch 60/100\n",
            "314/314 [==============================] - 0s 99us/step - loss: 550.1776 - mean_absolute_error: 22.1502\n",
            "Epoch 61/100\n",
            "314/314 [==============================] - 0s 80us/step - loss: 549.2914 - mean_absolute_error: 22.1303\n",
            "Epoch 62/100\n",
            "314/314 [==============================] - 0s 78us/step - loss: 548.4103 - mean_absolute_error: 22.1103\n",
            "Epoch 63/100\n",
            "314/314 [==============================] - 0s 86us/step - loss: 547.5309 - mean_absolute_error: 22.0905\n",
            "Epoch 64/100\n",
            "314/314 [==============================] - 0s 95us/step - loss: 546.6539 - mean_absolute_error: 22.0705\n",
            "Epoch 65/100\n",
            "314/314 [==============================] - 0s 82us/step - loss: 545.7732 - mean_absolute_error: 22.0506\n",
            "Epoch 66/100\n",
            "314/314 [==============================] - 0s 83us/step - loss: 544.8988 - mean_absolute_error: 22.0308\n",
            "Epoch 67/100\n",
            "314/314 [==============================] - 0s 82us/step - loss: 544.0188 - mean_absolute_error: 22.0108\n",
            "Epoch 68/100\n",
            "314/314 [==============================] - 0s 96us/step - loss: 543.1413 - mean_absolute_error: 21.9909\n",
            "Epoch 69/100\n",
            "314/314 [==============================] - 0s 86us/step - loss: 542.2650 - mean_absolute_error: 21.9711\n",
            "Epoch 70/100\n",
            "314/314 [==============================] - 0s 110us/step - loss: 541.3872 - mean_absolute_error: 21.9512\n",
            "Epoch 71/100\n",
            "314/314 [==============================] - 0s 74us/step - loss: 540.5190 - mean_absolute_error: 21.9311\n",
            "Epoch 72/100\n",
            "314/314 [==============================] - 0s 79us/step - loss: 539.6470 - mean_absolute_error: 21.9113\n",
            "Epoch 73/100\n",
            "314/314 [==============================] - 0s 83us/step - loss: 538.7794 - mean_absolute_error: 21.8914\n",
            "Epoch 74/100\n",
            "314/314 [==============================] - 0s 79us/step - loss: 537.9083 - mean_absolute_error: 21.8715\n",
            "Epoch 75/100\n",
            "314/314 [==============================] - 0s 74us/step - loss: 537.0306 - mean_absolute_error: 21.8516\n",
            "Epoch 76/100\n",
            "314/314 [==============================] - 0s 96us/step - loss: 536.1641 - mean_absolute_error: 21.8316\n",
            "Epoch 77/100\n",
            "314/314 [==============================] - 0s 93us/step - loss: 535.2934 - mean_absolute_error: 21.8119\n",
            "Epoch 78/100\n",
            "314/314 [==============================] - 0s 111us/step - loss: 534.4238 - mean_absolute_error: 21.7918\n",
            "Epoch 79/100\n",
            "314/314 [==============================] - 0s 77us/step - loss: 533.5549 - mean_absolute_error: 21.7720\n",
            "Epoch 80/100\n",
            "314/314 [==============================] - 0s 77us/step - loss: 532.6928 - mean_absolute_error: 21.7520\n",
            "Epoch 81/100\n",
            "314/314 [==============================] - 0s 82us/step - loss: 531.8328 - mean_absolute_error: 21.7322\n",
            "Epoch 82/100\n",
            "314/314 [==============================] - 0s 86us/step - loss: 530.9662 - mean_absolute_error: 21.7124\n",
            "Epoch 83/100\n",
            "314/314 [==============================] - 0s 69us/step - loss: 530.0979 - mean_absolute_error: 21.6924\n",
            "Epoch 84/100\n",
            "314/314 [==============================] - 0s 93us/step - loss: 529.2398 - mean_absolute_error: 21.6725\n",
            "Epoch 85/100\n",
            "314/314 [==============================] - 0s 80us/step - loss: 528.3729 - mean_absolute_error: 21.6526\n",
            "Epoch 86/100\n",
            "314/314 [==============================] - 0s 76us/step - loss: 527.5122 - mean_absolute_error: 21.6326\n",
            "Epoch 87/100\n",
            "314/314 [==============================] - 0s 72us/step - loss: 526.6530 - mean_absolute_error: 21.6127\n",
            "Epoch 88/100\n",
            "314/314 [==============================] - 0s 79us/step - loss: 525.7958 - mean_absolute_error: 21.5928\n",
            "Epoch 89/100\n",
            "314/314 [==============================] - 0s 79us/step - loss: 524.9368 - mean_absolute_error: 21.5729\n",
            "Epoch 90/100\n",
            "314/314 [==============================] - 0s 79us/step - loss: 524.0738 - mean_absolute_error: 21.5531\n",
            "Epoch 91/100\n",
            "314/314 [==============================] - 0s 89us/step - loss: 523.2169 - mean_absolute_error: 21.5332\n",
            "Epoch 92/100\n",
            "314/314 [==============================] - 0s 81us/step - loss: 522.3610 - mean_absolute_error: 21.5132\n",
            "Epoch 93/100\n",
            "314/314 [==============================] - 0s 77us/step - loss: 521.5060 - mean_absolute_error: 21.4933\n",
            "Epoch 94/100\n",
            "314/314 [==============================] - 0s 79us/step - loss: 520.6502 - mean_absolute_error: 21.4735\n",
            "Epoch 95/100\n",
            "314/314 [==============================] - 0s 71us/step - loss: 519.7985 - mean_absolute_error: 21.4535\n",
            "Epoch 96/100\n",
            "314/314 [==============================] - 0s 68us/step - loss: 518.9519 - mean_absolute_error: 21.4336\n",
            "Epoch 97/100\n",
            "314/314 [==============================] - 0s 83us/step - loss: 518.0979 - mean_absolute_error: 21.4138\n",
            "Epoch 98/100\n",
            "314/314 [==============================] - 0s 77us/step - loss: 517.2429 - mean_absolute_error: 21.3939\n",
            "Epoch 99/100\n",
            "314/314 [==============================] - 0s 75us/step - loss: 516.3928 - mean_absolute_error: 21.3740\n",
            "Epoch 100/100\n",
            "314/314 [==============================] - 0s 74us/step - loss: 515.5353 - mean_absolute_error: 21.3541\n"
          ],
          "name": "stdout"
        },
        {
          "output_type": "execute_result",
          "data": {
            "text/plain": [
              "<keras.callbacks.History at 0x7f36810f5c88>"
            ]
          },
          "metadata": {
            "tags": []
          },
          "execution_count": 14
        }
      ]
    },
    {
      "cell_type": "code",
      "metadata": {
        "id": "opa_hxrd2jvy",
        "colab_type": "code",
        "outputId": "d7f3903f-6350-4249-ab38-c7d53712abab",
        "colab": {
          "base_uri": "https://localhost:8080/",
          "height": 204
        }
      },
      "source": [
        "train_dataset.head()"
      ],
      "execution_count": 15,
      "outputs": [
        {
          "output_type": "execute_result",
          "data": {
            "text/html": [
              "<div>\n",
              "<style scoped>\n",
              "    .dataframe tbody tr th:only-of-type {\n",
              "        vertical-align: middle;\n",
              "    }\n",
              "\n",
              "    .dataframe tbody tr th {\n",
              "        vertical-align: top;\n",
              "    }\n",
              "\n",
              "    .dataframe thead th {\n",
              "        text-align: right;\n",
              "    }\n",
              "</style>\n",
              "<table border=\"1\" class=\"dataframe\">\n",
              "  <thead>\n",
              "    <tr style=\"text-align: right;\">\n",
              "      <th></th>\n",
              "      <th>Cylinders</th>\n",
              "      <th>Displacement</th>\n",
              "      <th>HP</th>\n",
              "      <th>Weight</th>\n",
              "      <th>Acceleration</th>\n",
              "      <th>Model Year</th>\n",
              "      <th>Origin</th>\n",
              "    </tr>\n",
              "  </thead>\n",
              "  <tbody>\n",
              "    <tr>\n",
              "      <th>146</th>\n",
              "      <td>4</td>\n",
              "      <td>90.0</td>\n",
              "      <td>75.0</td>\n",
              "      <td>2125.0</td>\n",
              "      <td>14.5</td>\n",
              "      <td>74</td>\n",
              "      <td>1</td>\n",
              "    </tr>\n",
              "    <tr>\n",
              "      <th>282</th>\n",
              "      <td>4</td>\n",
              "      <td>140.0</td>\n",
              "      <td>88.0</td>\n",
              "      <td>2890.0</td>\n",
              "      <td>17.3</td>\n",
              "      <td>79</td>\n",
              "      <td>1</td>\n",
              "    </tr>\n",
              "    <tr>\n",
              "      <th>69</th>\n",
              "      <td>8</td>\n",
              "      <td>350.0</td>\n",
              "      <td>160.0</td>\n",
              "      <td>4456.0</td>\n",
              "      <td>13.5</td>\n",
              "      <td>72</td>\n",
              "      <td>1</td>\n",
              "    </tr>\n",
              "    <tr>\n",
              "      <th>378</th>\n",
              "      <td>4</td>\n",
              "      <td>105.0</td>\n",
              "      <td>63.0</td>\n",
              "      <td>2125.0</td>\n",
              "      <td>14.7</td>\n",
              "      <td>82</td>\n",
              "      <td>1</td>\n",
              "    </tr>\n",
              "    <tr>\n",
              "      <th>331</th>\n",
              "      <td>4</td>\n",
              "      <td>97.0</td>\n",
              "      <td>67.0</td>\n",
              "      <td>2145.0</td>\n",
              "      <td>18.0</td>\n",
              "      <td>80</td>\n",
              "      <td>3</td>\n",
              "    </tr>\n",
              "  </tbody>\n",
              "</table>\n",
              "</div>"
            ],
            "text/plain": [
              "     Cylinders  Displacement     HP  Weight  Acceleration  Model Year  Origin\n",
              "146          4          90.0   75.0  2125.0          14.5          74       1\n",
              "282          4         140.0   88.0  2890.0          17.3          79       1\n",
              "69           8         350.0  160.0  4456.0          13.5          72       1\n",
              "378          4         105.0   63.0  2125.0          14.7          82       1\n",
              "331          4          97.0   67.0  2145.0          18.0          80       3"
            ]
          },
          "metadata": {
            "tags": []
          },
          "execution_count": 15
        }
      ]
    },
    {
      "cell_type": "code",
      "metadata": {
        "id": "y0bPyMZC6gye",
        "colab_type": "code",
        "colab": {}
      },
      "source": [
        ""
      ],
      "execution_count": 0,
      "outputs": []
    }
  ]
}